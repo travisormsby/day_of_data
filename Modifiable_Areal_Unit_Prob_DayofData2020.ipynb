{
 "cells": [
  {
   "cell_type": "markdown",
   "metadata": {},
   "source": [
    "#######################################################\n",
    "\n",
    "#DAY OF DATA 2020 MODIFIABLE AREAL UNIT PROBLEM ACTIVITY\n",
    "#KRZYZANOWSKI, BRITTANY\n",
    "\n",
    "########################################################\n"
   ]
  },
  {
   "cell_type": "markdown",
   "metadata": {},
   "source": [
    "# Let's look at the rather strong and stable relationship between neighborhood air quality and proportion nonwhite.\n",
    "\n",
    "Due to structural racism, minority populations are much more likely to live in neighborhoods with high pollution levels than whites.\n"
   ]
  },
  {
   "cell_type": "code",
   "execution_count": 1,
   "metadata": {
    "collapsed": false
   },
   "outputs": [
    {
     "name": "stderr",
     "output_type": "stream",
     "text": [
      "Loading required package: GWmodel\n",
      "\n",
      "Loading required package: maptools\n",
      "\n",
      "Loading required package: sp\n",
      "\n",
      "Checking rgeos availability: TRUE\n",
      "\n",
      "Loading required package: robustbase\n",
      "\n",
      "Loading required package: Rcpp\n",
      "\n",
      "Loading required package: spatialreg\n",
      "\n",
      "Loading required package: spData\n",
      "\n",
      "To access larger datasets in this package, install the spDataLarge\n",
      "package with: `install.packages('spDataLarge',\n",
      "repos='https://nowosad.github.io/drat/', type='source')`\n",
      "\n",
      "Loading required package: Matrix\n",
      "\n",
      "Registered S3 methods overwritten by 'spatialreg':\n",
      "  method                   from \n",
      "  residuals.stsls          spdep\n",
      "  deviance.stsls           spdep\n",
      "  coef.stsls               spdep\n",
      "  print.stsls              spdep\n",
      "  summary.stsls            spdep\n",
      "  print.summary.stsls      spdep\n",
      "  residuals.gmsar          spdep\n",
      "  deviance.gmsar           spdep\n",
      "  coef.gmsar               spdep\n",
      "  fitted.gmsar             spdep\n",
      "  print.gmsar              spdep\n",
      "  summary.gmsar            spdep\n",
      "  print.summary.gmsar      spdep\n",
      "  print.lagmess            spdep\n",
      "  summary.lagmess          spdep\n",
      "  print.summary.lagmess    spdep\n",
      "  residuals.lagmess        spdep\n",
      "  deviance.lagmess         spdep\n",
      "  coef.lagmess             spdep\n",
      "  fitted.lagmess           spdep\n",
      "  logLik.lagmess           spdep\n",
      "  fitted.SFResult          spdep\n",
      "  print.SFResult           spdep\n",
      "  fitted.ME_res            spdep\n",
      "  print.ME_res             spdep\n",
      "  print.lagImpact          spdep\n",
      "  plot.lagImpact           spdep\n",
      "  summary.lagImpact        spdep\n",
      "  HPDinterval.lagImpact    spdep\n",
      "  print.summary.lagImpact  spdep\n",
      "  print.sarlm              spdep\n",
      "  summary.sarlm            spdep\n",
      "  residuals.sarlm          spdep\n",
      "  deviance.sarlm           spdep\n",
      "  coef.sarlm               spdep\n",
      "  vcov.sarlm               spdep\n",
      "  fitted.sarlm             spdep\n",
      "  logLik.sarlm             spdep\n",
      "  anova.sarlm              spdep\n",
      "  predict.sarlm            spdep\n",
      "  print.summary.sarlm      spdep\n",
      "  print.sarlm.pred         spdep\n",
      "  as.data.frame.sarlm.pred spdep\n",
      "  residuals.spautolm       spdep\n",
      "  deviance.spautolm        spdep\n",
      "  coef.spautolm            spdep\n",
      "  fitted.spautolm          spdep\n",
      "  print.spautolm           spdep\n",
      "  summary.spautolm         spdep\n",
      "  logLik.spautolm          spdep\n",
      "  print.summary.spautolm   spdep\n",
      "  print.WXImpact           spdep\n",
      "  summary.WXImpact         spdep\n",
      "  print.summary.WXImpact   spdep\n",
      "  predict.SLX              spdep\n",
      "\n",
      "Registered S3 method overwritten by 'xts':\n",
      "  method     from\n",
      "  as.zoo.xts zoo \n",
      "\n",
      "Welcome to GWmodel version 2.1-3.\n",
      "The new version of GWmodel 2.1-3 now is ready, and functions have been improved or revised:\n",
      " 1) gwr.scalable, Scalable GWR;\n",
      "2) gwr.basic and bw.gwr\n",
      "\n",
      "rgdal: version: 1.4-8, (SVN revision 845)\n",
      " Geospatial Data Abstraction Library extensions to R successfully loaded\n",
      " Loaded GDAL runtime: GDAL 2.2.3, released 2017/11/20\n",
      " Path to GDAL shared files: C:/Users/krzyzanowski/Documents/R/win-library/3.6/rgdal/gdal\n",
      " GDAL binary built with GEOS: TRUE \n",
      " Loaded PROJ.4 runtime: Rel. 4.9.3, 15 August 2016, [PJ_VERSION: 493]\n",
      " Path to PROJ.4 shared files: C:/Users/krzyzanowski/Documents/R/win-library/3.6/rgdal/proj\n",
      " Linking to sp version: 1.3-2 \n",
      "\n",
      "Loading required package: tmap\n",
      "\n"
     ]
    },
    {
     "ename": "ERROR",
     "evalue": "Error in ogrListLayers(dsn = dsn): Cannot open data source\n",
     "output_type": "error",
     "traceback": [
      "Error in ogrListLayers(dsn = dsn): Cannot open data source\nTraceback:\n",
      "1. readOGR(\"blockgroup.shp\")",
      "2. ogrListLayers(dsn = dsn)"
     ]
    }
   ],
   "source": [
    "#Load the Libraries\n",
    "require(GWmodel)\n",
    "library(rgdal)\n",
    "require(tmap)\n",
    "\n",
    "#Name your data so you can call on it.  We will call it \"spdat\"\n",
    "spdat<-readOGR(\"blockgroup.shp\")"
   ]
  },
  {
   "cell_type": "markdown",
   "metadata": {},
   "source": [
    "# View the data so that you can see the variable names."
   ]
  },
  {
   "cell_type": "code",
   "execution_count": 2,
   "metadata": {
    "collapsed": false
   },
   "outputs": [
    {
     "ename": "ERROR",
     "evalue": "Error in eval(expr, envir, enclos): object 'spdat' not found\n",
     "output_type": "error",
     "traceback": [
      "Error in eval(expr, envir, enclos): object 'spdat' not found\nTraceback:\n"
     ]
    }
   ],
   "source": [
    "names (spdat)\n",
    "\n",
    "# Avg_MEDHIN = Median Household Income.\n",
    "# Avg_Avg_NO = Average NO2 (air quality metric). Higher is worse.\n",
    "# Pedu = Proportion of people with a BA degree or higher.\n",
    "# Pminori = Proportion of non-white.\n",
    "# Sum_TOTPOP = total number of people per unit.\n",
    "# Sum_MINORI = total number of non-white.\n",
    "# Sum_BA_HIG = total number of people with BA degree or higher.\n"
   ]
  },
  {
   "cell_type": "markdown",
   "metadata": {},
   "source": [
    "# Regress neighborhood air quality on proportion nonwhite."
   ]
  },
  {
   "cell_type": "code",
   "execution_count": 5,
   "metadata": {
    "collapsed": false
   },
   "outputs": [
    {
     "ename": "ERROR",
     "evalue": "Error in ogrListLayers(dsn = dsn): Cannot open data source\n",
     "output_type": "error",
     "traceback": [
      "Error in ogrListLayers(dsn = dsn): Cannot open data source\nTraceback:\n",
      "1. readOGR(\"blockgroup.shp\")",
      "2. ogrListLayers(dsn = dsn)"
     ]
    }
   ],
   "source": [
    "#Read the data\n",
    "spdat<-readOGR(\"blockgroup.shp\")\n",
    "\n",
    "#Run the regression\n",
    "spdat.lm<-lm(spdat$Pminori~spdat$Avg_Avg_NO, data=spdat)\n",
    "summary.lm(spdat.lm)\n",
    "\n",
    "#Make a scatterplot of the results with a reg line\n",
    "plot(spdat$Pminori, spdat$Avg_Avg_NO, ylab = \"NO2 parts per billion\", xlab = \"Percent NonWhite\", pch=21, bg=\"royalblue\")\n",
    "abline(lm(spdat$Pminori~spdat$Avg_Avg_NO), col=\"red\", lwd=2, lty=2)\n"
   ]
  },
  {
   "cell_type": "markdown",
   "metadata": {},
   "source": [
    "# Let's look at a different relationship-one that is not that stable and is vulnerable to MAUP effects. Let's look at the relationship between neighborhood education attainment and proportion nonwhite. <br>\n",
    "*Try running this code at the county level first, then schooldistrict, then censustract.*"
   ]
  },
  {
   "cell_type": "code",
   "execution_count": 6,
   "metadata": {
    "collapsed": false
   },
   "outputs": [
    {
     "ename": "ERROR",
     "evalue": "Error in ogrListLayers(dsn = dsn): Cannot open data source\n",
     "output_type": "error",
     "traceback": [
      "Error in ogrListLayers(dsn = dsn): Cannot open data source\nTraceback:\n",
      "1. readOGR(\"county.shp\")",
      "2. ogrListLayers(dsn = dsn)"
     ]
    }
   ],
   "source": [
    "#Read the data\n",
    "spdat<-readOGR(\"county.shp\")\n",
    "\n",
    "#Regressing Proportion Minority on proportion with BA degree or higher\n",
    "spdat.lm<-lm(spdat$Pedu~spdat$Pminori, data=spdat)\n",
    "\n",
    "#Scatter Plot\n",
    "plot(spdat$Pminori,spdat$Pedu, ylab = \"Proportion of Population with BA Degree or Higher\", xlab = \"Proportion of NonWhite\", pch=21, bg=\"royalblue\")\n",
    "abline(lm(spdat$Pedu~spdat$Pminori), col=\"red\", lwd=2, lty=2)"
   ]
  },
  {
   "cell_type": "code",
   "execution_count": 6,
   "metadata": {
    "collapsed": false
   },
   "outputs": [
    {
     "data": {
      "text/plain": [
       "\n",
       "Call:\n",
       "lm(formula = spdat$Pedu ~ spdat$Pminori, data = spdat)\n",
       "\n",
       "Residuals:\n",
       "      Min        1Q    Median        3Q       Max \n",
       "-0.089436 -0.028473  0.000844  0.023415  0.094121 \n",
       "\n",
       "Coefficients:\n",
       "              Estimate Std. Error t value Pr(>|t|)    \n",
       "(Intercept)    0.15622    0.02001   7.806 1.82e-06 ***\n",
       "spdat$Pminori  0.48739    0.12914   3.774  0.00205 ** \n",
       "---\n",
       "Signif. codes:  0 '***' 0.001 '**' 0.01 '*' 0.05 '.' 0.1 ' ' 1\n",
       "\n",
       "Residual standard error: 0.04749 on 14 degrees of freedom\n",
       "Multiple R-squared:  0.5043,\tAdjusted R-squared:  0.4689 \n",
       "F-statistic: 14.24 on 1 and 14 DF,  p-value: 0.002053\n"
      ]
     },
     "metadata": {},
     "output_type": "display_data"
    }
   ],
   "source": [
    "summary.lm(spdat.lm)"
   ]
  },
  {
   "cell_type": "markdown",
   "metadata": {},
   "source": [
    "* Both Zoning and Aggregation Effects make up the MAUP.\n",
    "* When you have more observations (aggregation effect) you get different results from when you only have a dozen or so observations. You likely get a better idea of what's going on when you have more observations, but your unit estimates will become less reliable if you use too small of a unit.\n",
    "* Some map units may have very similar numbers of units but they cut the data differently (zoning effect) and this can also change the relationship that you find. Consider gerrymandering.\n"
   ]
  },
  {
   "cell_type": "markdown",
   "metadata": {},
   "source": [
    "# Beginner\n",
    "\n",
    "Go back through the code above and explore the other relationships within the data. There are 4 main variables (race, income, education, and air quality). There are 5 different mapping units (blockgroup, censustract,schooldistrict,votingdistrict, county). What relationships are relatively stable in the Minneapolis metro area? What relationships are not? Think about the implications.\n"
   ]
  },
  {
   "cell_type": "code",
   "execution_count": 3,
   "metadata": {
    "collapsed": false
   },
   "outputs": [
    {
     "ename": "ERROR",
     "evalue": "Error in ogrListLayers(dsn = dsn): Cannot open data source\n",
     "output_type": "error",
     "traceback": [
      "Error in ogrListLayers(dsn = dsn): Cannot open data source\nTraceback:\n",
      "1. readOGR(\"county.shp\")",
      "2. ogrListLayers(dsn = dsn)"
     ]
    }
   ],
   "source": [
    "#Read the data (you can change this to explore other map units)\n",
    "spdat<-readOGR(\"county.shp\")\n",
    "\n",
    "# set up variables and labels \n",
    "# (these are the only other things you need to change, go back to cell 2 to find the variable names)\n",
    "xvariable = spdat$Pminori\n",
    "xlabel = \"Proportion of NonWhite\"\n",
    "yvariable = spdat$Pedu\n",
    "ylabel = \"Proportion of Population with BA Degree or Higher\"\n",
    "\n",
    "#create regression model (don't change this)\n",
    "spdat.lm<-lm(yvar~xvar, data=spdat)\n",
    "\n",
    "#Scatter Plot (don't change this)\n",
    "plot(xvariable, yvariable, ylab = ylabel, xlab = xlabel, pch=21, bg=\"royalblue\")\n",
    "abline(spdat.lm, col=\"red\", lwd=2, lty=2)\n",
    "\n",
    "# print summary of regression (don't change this)\n",
    "summary.lm(spdat.lm)"
   ]
  },
  {
   "cell_type": "markdown",
   "metadata": {},
   "source": [
    "# Intermediate\n",
    "\n",
    "Go back and explore the data (4 different main variables and 5 different mapping units). Can you use R to make maps? Create four maps: proportion minority (for census tracts and school districts) and air quality (for census tracts and school districts). Now do the same for proportion minority and education. Can you change the color schema of the maps? Maybe add a title and scalebar? Google is your friend.\n"
   ]
  },
  {
   "cell_type": "code",
   "execution_count": 16,
   "metadata": {
    "collapsed": false
   },
   "outputs": [
    {
     "name": "stderr",
     "output_type": "stream",
     "text": [
      "Loading required package: tmap\n",
      "\n",
      "Warning message:\n",
      "\"readShapeSpatial is deprecated; use rgdal::readOGR or sf::st_read\"\n",
      "Warning message:\n",
      "\"readShapePoly is deprecated; use rgdal::readOGR or sf::st_read\"\n",
      "Warning message:\n",
      "\"The shape spdat is invalid. See sf::st_is_valid\"\n",
      "Warning message:\n",
      "\"Currect projection of shape spdat unknown. Long-lat (WGS84) is assumed.\"\n"
     ]
    },
    {
     "data": {
      "image/png": "[encoded data removed]",
      "text/plain": [
       "plot without title"
      ]
     },
     "metadata": {
      "image/png": {
       "height": 420,
       "width": 420
      },
      "text/plain": {
       "height": 420,
       "width": 420
      }
     },
     "output_type": "display_data"
    }
   ],
   "source": [
    "spdat<-readOGR(\"blockgroup.shp\")\n",
    "\n",
    "tm_shape(spdat) +\n",
    "  tm_fill(\"Pminori\",title=\"Proportion Nonwhite\",style=\"quantile\")  +\n",
    "  tm_borders() +\n",
    "  tm_layout(title = \"Quintile Map\", title.position = c(\"right\",\"bottom\"))\n"
   ]
  },
  {
   "cell_type": "code",
   "execution_count": null,
   "metadata": {
    "collapsed": true
   },
   "outputs": [],
   "source": []
  },
  {
   "cell_type": "markdown",
   "metadata": {},
   "source": [
    "# Expert\n",
    "\n",
    "Can you check for MAUP effects in your own data? If you aren't able to access your own data right now, go online and download a dataset that you are interested in.\n",
    "\n"
   ]
  },
  {
   "cell_type": "code",
   "execution_count": null,
   "metadata": {
    "collapsed": true
   },
   "outputs": [],
   "source": []
  }
 ],
 "metadata": {
  "kernelspec": {
   "display_name": "R",
   "language": "R",
   "name": "ir"
  },
  "language_info": {
   "codemirror_mode": "r",
   "file_extension": ".r",
   "mimetype": "text/x-r-source",
   "name": "R",
   "pygments_lexer": "r",
   "version": "3.6.2"
  }
 },
 "nbformat": 4,
 "nbformat_minor": 2
}
